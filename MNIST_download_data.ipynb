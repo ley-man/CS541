{
 "cells": [
  {
   "cell_type": "code",
   "execution_count": 8,
   "metadata": {},
   "outputs": [],
   "source": [
    "import requests\n",
    "import os\n",
    "import gzip\n",
    "import numpy as np"
   ]
  },
  {
   "cell_type": "code",
   "execution_count": 2,
   "metadata": {},
   "outputs": [],
   "source": [
    "urls = [\n",
    "    'http://yann.lecun.com/exdb/mnist/train-images-idx3-ubyte.gz',\n",
    "    'http://yann.lecun.com/exdb/mnist/train-labels-idx1-ubyte.gz',\n",
    "    'http://yann.lecun.com/exdb/mnist/t10k-images-idx3-ubyte.gz',\n",
    "    'http://yann.lecun.com/exdb/mnist/t10k-labels-idx1-ubyte.gz'\n",
    "]"
   ]
  },
  {
   "cell_type": "code",
   "execution_count": 3,
   "metadata": {},
   "outputs": [],
   "source": [
    "def download_data(file, target):\n",
    "    res = requests.get(file)\n",
    "    with open(target, 'wb') as file:\n",
    "        file.write(res.content)\n",
    "    "
   ]
  },
  {
   "cell_type": "code",
   "execution_count": 4,
   "metadata": {},
   "outputs": [],
   "source": [
    "# Downloads data in the same folder as the python notebook\n",
    "download_data(urls[0], 'train_images.gz')\n",
    "download_data(urls[1], 'train_labels.gz')\n",
    "download_data(urls[2], 'test_images.gz')\n",
    "download_data(urls[3], 'test_labels.gz')"
   ]
  },
  {
   "cell_type": "markdown",
   "metadata": {},
   "source": [
    "The downloaded data is offset by a few rows, The initial rows contain additional parmeters such as #rows,\n",
    "#cols, #images, etc. The offset has been applied to the generated dataset in the next part and the obtained dataset is ready to be used."
   ]
  },
  {
   "cell_type": "code",
   "execution_count": 28,
   "metadata": {},
   "outputs": [
    {
     "name": "stdout",
     "output_type": "stream",
     "text": [
      "47040000 (47040000,)\n"
     ]
    }
   ],
   "source": [
    "with gzip.open('train_images.gz', 'rb') as file:\n",
    "    train_data = np.frombuffer(file.read(), dtype = np.int8, offset = 16)\n",
    "# Verify train data by shape\n",
    "print (28 * 28 * 60000, train_data.shape)"
   ]
  },
  {
   "cell_type": "code",
   "execution_count": 31,
   "metadata": {},
   "outputs": [
    {
     "name": "stdout",
     "output_type": "stream",
     "text": [
      "60000 (60000,)\n"
     ]
    }
   ],
   "source": [
    "with gzip.open('train_labels.gz', 'rb') as file:\n",
    "    train_labels = np.frombuffer(file.read(), dtype = np.int8, offset = 8)\n",
    "# Verify train labels by shape\n",
    "print (1 * 60000, train_labels.shape)"
   ]
  },
  {
   "cell_type": "code",
   "execution_count": 32,
   "metadata": {},
   "outputs": [
    {
     "name": "stdout",
     "output_type": "stream",
     "text": [
      "7840000 (7840000,)\n"
     ]
    }
   ],
   "source": [
    "with gzip.open('test_images.gz', 'rb') as file:\n",
    "    test_data = np.frombuffer(file.read(), dtype = np.int8, offset = 16)\n",
    "print (28*28*10000, test_data.shape)"
   ]
  },
  {
   "cell_type": "code",
   "execution_count": 34,
   "metadata": {},
   "outputs": [
    {
     "name": "stdout",
     "output_type": "stream",
     "text": [
      "10000 (10000,)\n"
     ]
    }
   ],
   "source": [
    "with gzip.open('test_labels.gz', 'rb') as file:\n",
    "    test_labels = np.frombuffer(file.read(), dtype = np.int8, offset = 8)\n",
    "# Verify train labels by shape\n",
    "print (1 * 10000, test_labels.shape)"
   ]
  },
  {
   "cell_type": "code",
   "execution_count": null,
   "metadata": {},
   "outputs": [],
   "source": []
  }
 ],
 "metadata": {
  "kernelspec": {
   "display_name": "Python 3",
   "language": "python",
   "name": "python3"
  },
  "language_info": {
   "codemirror_mode": {
    "name": "ipython",
    "version": 3
   },
   "file_extension": ".py",
   "mimetype": "text/x-python",
   "name": "python",
   "nbconvert_exporter": "python",
   "pygments_lexer": "ipython3",
   "version": "3.6.12"
  }
 },
 "nbformat": 4,
 "nbformat_minor": 4
}
